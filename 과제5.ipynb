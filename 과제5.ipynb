{
  "nbformat": 4,
  "nbformat_minor": 0,
  "metadata": {
    "colab": {
      "provenance": [],
      "authorship_tag": "ABX9TyNs/IoL8ca/JyJgLT8hOHg6",
      "include_colab_link": true
    },
    "kernelspec": {
      "name": "python3",
      "display_name": "Python 3"
    },
    "language_info": {
      "name": "python"
    }
  },
  "cells": [
    {
      "cell_type": "markdown",
      "metadata": {
        "id": "view-in-github",
        "colab_type": "text"
      },
      "source": [
        "<a href=\"https://colab.research.google.com/github/sabin5208/phyton/blob/main/%EA%B3%BC%EC%A0%9C5.ipynb\" target=\"_parent\"><img src=\"https://colab.research.google.com/assets/colab-badge.svg\" alt=\"Open In Colab\"/></a>"
      ]
    },
    {
      "cell_type": "code",
      "execution_count": 4,
      "metadata": {
        "colab": {
          "base_uri": "https://localhost:8080/"
        },
        "id": "blgGizsoVmxi",
        "outputId": "48de6f40-c5fc-44a6-da21-e78dc057f094"
      },
      "outputs": [
        {
          "output_type": "stream",
          "name": "stdout",
          "text": [
            "정보처리기능사 실기 점수 입력 : 60\n",
            "합격\n",
            "ㅊㅋ\n"
          ]
        }
      ],
      "source": [
        "score = int(input(\"정보처리기능사 실기 점수 입력 : \"))\n",
        "\n",
        "if score >= 60: \n",
        "    print(\"합격\")\n",
        "    print(\"ㅊㅋ\")\n",
        "else : \n",
        "  print(\"돌아가\")"
      ]
    },
    {
      "cell_type": "code",
      "source": [
        "# 한줄 주석문임 // 같은 느낌\n",
        "\n",
        "\"\"\"\n",
        "프로그래밍 수업 : 3월 20일    이건 *//* 느낌\n",
        "프로그래머 : 박용빈\n",
        "프로그램 최종 작성일 : 3월 20일\n",
        "프로그램 명 : 학점 계산 프로그램\n",
        "\"\"\"\n",
        "print(\"파이썬(3) : B(3.5)\\n\")\n",
        "print(\"모바일(2) : A(4.0)\\n\")\n",
        "print(\"액셀(1) : A(4.5)\\n\")\n",
        "python = float(input(\"파이썬 점수를 입력해라(예 3.5) : \"))\n",
        "mobile = float(input(\"모바일 점수를 입력 : \"))\n",
        "excel = float(input(\"액셀 점수를 입력\"))\n",
        "result = (python * 3) + (mobile * 2) + + excel\n",
        "avg = result/6\n",
        "\n",
        "print(\"평균학점은\", round(avg,3))\n",
        "\n"
      ],
      "metadata": {
        "colab": {
          "base_uri": "https://localhost:8080/"
        },
        "id": "80Rul5zVXJfC",
        "outputId": "61e07c64-6d6c-4959-8059-b32091bec97e"
      },
      "execution_count": 7,
      "outputs": [
        {
          "output_type": "stream",
          "name": "stdout",
          "text": [
            "파이썬(3) : B(3.5)\n",
            "\n",
            "모바일(2) : A(4.0)\n",
            "\n",
            "액셀(1) : A(4.5)\n",
            "\n",
            "파이썬 점수를 입력해라(예 3.5) : 3.5\n",
            "모바일 점수를 입력 : 4.0\n",
            "액셀 점수를 입력4.5\n",
            "평균학점은 3.833\n"
          ]
        }
      ]
    },
    {
      "cell_type": "code",
      "source": [
        "print(\"\\n줄바꿈\\n연습 \")\n",
        "print(\"\\t탭키\\t연습\")\n",
        "print(\"어떤 글자를 \\\"강조\\\"하는 효과1\")\n",
        "print(\"어떤 글자를 \\'강조'하는 효과2\")\n",
        "print(\"\\\\\\\\ 백슬래시 2개 출력\")"
      ],
      "metadata": {
        "colab": {
          "base_uri": "https://localhost:8080/"
        },
        "id": "9tNl5G4KbJCb",
        "outputId": "a3d46bd3-da8f-4579-bee6-957e454b5088"
      },
      "execution_count": 11,
      "outputs": [
        {
          "output_type": "stream",
          "name": "stdout",
          "text": [
            "\n",
            "줄바꿈\n",
            "연습 \n",
            "\t탭키\t연습\n",
            "어떤 글자를 \"강조\"하는 효과1\n",
            "어떤 글자를 '강조'하는 효과2\n",
            "\\\\ 백슬래시 2개 출력\n"
          ]
        }
      ]
    },
    {
      "cell_type": "code",
      "source": [
        "first_string = input(\"첫번째 문자열 : \")\n",
        "second_string = input(\"두번째 문자열 : \")\n",
        "\n",
        "minus = len(first_string) - len(second_string)\n",
        "\n",
        "print(\"두 문자열의 길이 차이는\", minus,\"인데용 ? \")\n"
      ],
      "metadata": {
        "colab": {
          "base_uri": "https://localhost:8080/"
        },
        "id": "R1wJxJZteZtL",
        "outputId": "b1768d7f-b4c6-4740-c486-b2b5141045d6"
      },
      "execution_count": 18,
      "outputs": [
        {
          "output_type": "stream",
          "name": "stdout",
          "text": [
            "첫번째 문자열 : 안산공업고등학교\n",
            "두번째 문자열 : 컴퓨터과\n",
            "두 문자열의 길이 차이는 4 인데용 ? \n"
          ]
        }
      ]
    },
    {
      "cell_type": "code",
      "source": [
        "str1 = \"\"\"안산공업고등학교 컴퓨터과, 안산공업고등학교는\n",
        "기계과, 전기과, 전자과, 화공과, 디자인과, 컴퓨터과로 총 6개의\n",
        "과로 이루어져 있습니다\n",
        "\"\"\"\n",
        "strlen = str1.count(\"안산\")\n",
        "\n",
        "print(strlen)\n",
        "\n"
      ],
      "metadata": {
        "colab": {
          "base_uri": "https://localhost:8080/"
        },
        "id": "ZXqUWOwSZbK0",
        "outputId": "1dbc8d0c-9cd4-4a1a-de02-64593b9e72f2"
      },
      "execution_count": 25,
      "outputs": [
        {
          "output_type": "stream",
          "name": "stdout",
          "text": [
            "2\n"
          ]
        }
      ]
    },
    {
      "cell_type": "code",
      "source": [
        "str2 = \"\"\"When I find myself in times of trouble, Mother Mary comes to me\n",
        "Speaking words of wisdom, let it be\n",
        "And in my hour of darkness she is standing right in front of me\n",
        "Speaking words of wisdom, let it be\n",
        "Let it be, let it be, let it be, let it be\n",
        "Whisper words of wisdom, let it be\n",
        "And when the broken hearted people living in the world agree\n",
        "There will be an answer, let it be\n",
        "For though they may be parted, there is still a chance that they will see\n",
        "There will be an answer, let it be\n",
        "Let it be, let it be, let it be, let it be\n",
        "There will be an answer, let it be\n",
        "Let it be, let it be, let it be, let it be\n",
        "Whisper words of wisdom, let it be\n",
        "Let it be, let it be, let it be, let it be\n",
        "Whisper words of wisdom, let it be, be\n",
        "And when the night is cloudy there is still a light that shines on me\n",
        "Shinin' until tomorrow, let it be\n",
        "I wake up to the sound of music, Mother Mary comes to me\n",
        "Speaking words of wisdom, let it be\n",
        "And let it be, let it be, let it be, let it be\n",
        "Whisper words of wisdom, let it be\n",
        "And let it be, let it be, let it be, let it be\n",
        "Whisper words of wisdom, let it be\n",
        "\"\"\"\n",
        "lyrics = str2.upper()\n",
        "strlen2 = lyrics.count(\"LET IT BE\")\n",
        "\n",
        "print(strlen2)"
      ],
      "metadata": {
        "colab": {
          "base_uri": "https://localhost:8080/"
        },
        "id": "_9fvN4sbkUMU",
        "outputId": "3deae0fb-caf3-4a7e-9ec3-7e827fc33fee"
      },
      "execution_count": 28,
      "outputs": [
        {
          "output_type": "stream",
          "name": "stdout",
          "text": [
            "36\n"
          ]
        }
      ]
    }
  ]
}