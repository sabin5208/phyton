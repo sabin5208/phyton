{
  "nbformat": 4,
  "nbformat_minor": 0,
  "metadata": {
    "colab": {
      "provenance": [],
      "authorship_tag": "ABX9TyNt23ZpOuzSTIa1nAuVZfld",
      "include_colab_link": true
    },
    "kernelspec": {
      "name": "python3",
      "display_name": "Python 3"
    },
    "language_info": {
      "name": "python"
    }
  },
  "cells": [
    {
      "cell_type": "markdown",
      "metadata": {
        "id": "view-in-github",
        "colab_type": "text"
      },
      "source": [
        "<a href=\"https://colab.research.google.com/github/sabin5208/phyton/blob/main/%EA%B3%BC%EC%A0%9C4.ipynb\" target=\"_parent\"><img src=\"https://colab.research.google.com/assets/colab-badge.svg\" alt=\"Open In Colab\"/></a>"
      ]
    },
    {
      "cell_type": "code",
      "execution_count": 11,
      "metadata": {
        "colab": {
          "base_uri": "https://localhost:8080/"
        },
        "id": "MIZc34_LTczl",
        "outputId": "6a66b170-2052-4e82-e0e7-850d1481bc03"
      },
      "outputs": [
        {
          "output_type": "stream",
          "name": "stdout",
          "text": [
            "11600\n"
          ]
        }
      ],
      "source": [
        "samgim = 900 * 10\n",
        "bananamilk = 1800 * 2\n",
        "buy_lunchbox = 3500 * 5\n",
        "sale_lunchbox = 4000 * 4\n",
        "cola = 1500\n",
        "Shrimpggang = 2000 * 4\n",
        "can_coffee = 1800 * 5\n",
        "purchase = samgim + buy_lunchbox\n",
        "sale = bananamilk + sale_lunchbox + cola + Shrimpggang + can_coffee\n",
        "\n",
        "total = sale - purchase\n",
        "\n",
        "print(total)"
      ]
    }
  ]
}