{
  "nbformat": 4,
  "nbformat_minor": 0,
  "metadata": {
    "colab": {
      "provenance": [],
      "authorship_tag": "ABX9TyNk3wcKEFGkrLrqwZdJyejw",
      "include_colab_link": true
    },
    "kernelspec": {
      "name": "python3",
      "display_name": "Python 3"
    },
    "language_info": {
      "name": "python"
    }
  },
  "cells": [
    {
      "cell_type": "markdown",
      "metadata": {
        "id": "view-in-github",
        "colab_type": "text"
      },
      "source": [
        "<a href=\"https://colab.research.google.com/github/sabin5208/phyton/blob/main/%EA%B3%BC%EC%A0%9C2.ipynb\" target=\"_parent\"><img src=\"https://colab.research.google.com/assets/colab-badge.svg\" alt=\"Open In Colab\"/></a>"
      ]
    },
    {
      "cell_type": "code",
      "execution_count": 12,
      "metadata": {
        "colab": {
          "base_uri": "https://localhost:8080/"
        },
        "id": "FsviMyc2GW-6",
        "outputId": "dfcd415a-e919-4d3c-8549-ff096da6dfc1"
      },
      "outputs": [
        {
          "output_type": "stream",
          "name": "stdout",
          "text": [
            "정수 입력  : 100\n",
            "한번더 : 10\n",
            "100 + 10 = 110\n",
            "100 - 10 = 90\n",
            "100 * 10 = 1000\n",
            "100 / 10 = 10.0\n",
            "100 % 10 = 0\n",
            "100 ** 10 = 100000000000000000000\n"
          ]
        }
      ],
      "source": [
        "num1 = int(input(\"정수 입력  : \"))\n",
        "num2 = int(input(\"한번더 : \"))\n",
        "\n",
        "sum = num1 + num2\n",
        "min = num1 - num2\n",
        "mult = num1 * num2\n",
        "divi = num1 / num2\n",
        "mod = num1 % num2\n",
        "pow = num1 ** num2\n",
        "\n",
        "print(num1, \"+\", num2, \"=\", sum)\n",
        "print(num1, \"-\", num2, \"=\", min)\n",
        "print(num1, \"*\", num2, \"=\", mult)\n",
        "print(num1, \"/\", num2, \"=\", divi)\n",
        "print(num1, \"%\", num2, \"=\", mod)\n",
        "print(num1, \"**\", num2, \"=\", pow)"
      ]
    }
  ]
}