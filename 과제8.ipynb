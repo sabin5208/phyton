{
  "nbformat": 4,
  "nbformat_minor": 0,
  "metadata": {
    "colab": {
      "provenance": [],
      "authorship_tag": "ABX9TyM0AJg5OG4Kh8LXP8zB5N6z",
      "include_colab_link": true
    },
    "kernelspec": {
      "name": "python3",
      "display_name": "Python 3"
    },
    "language_info": {
      "name": "python"
    }
  },
  "cells": [
    {
      "cell_type": "markdown",
      "metadata": {
        "id": "view-in-github",
        "colab_type": "text"
      },
      "source": [
        "<a href=\"https://colab.research.google.com/github/sabin5208/phyton/blob/main/%EA%B3%BC%EC%A0%9C8.ipynb\" target=\"_parent\"><img src=\"https://colab.research.google.com/assets/colab-badge.svg\" alt=\"Open In Colab\"/></a>"
      ]
    },
    {
      "cell_type": "code",
      "execution_count": 7,
      "metadata": {
        "colab": {
          "base_uri": "https://localhost:8080/"
        },
        "id": "hvwIcG-yYF4j",
        "outputId": "1e43801e-3cfc-488f-9703-49b23861e3ae"
      },
      "outputs": [
        {
          "output_type": "stream",
          "name": "stdout",
          "text": [
            "42\n"
          ]
        }
      ],
      "source": [
        "import random\n",
        "\n",
        "rndNumber = random.randint(1,45)\n",
        "\n",
        "print(rndNumber)"
      ]
    },
    {
      "cell_type": "code",
      "source": [
        "import random\n",
        "\n",
        "lottoNumber = [0, 0, 0, 0, 0, 0]\n",
        "\n",
        "for i in range(6):\n",
        "    lottoNumber [i] = random.randint(1,45)\n",
        "for i in range(6):\n",
        "  print(lottoNumber [i] , end=\" \")\n"
      ],
      "metadata": {
        "colab": {
          "base_uri": "https://localhost:8080/"
        },
        "id": "IDpsIV8CZFQN",
        "outputId": "5f6b9e20-ea2c-4187-df0a-23d7ea2316b1"
      },
      "execution_count": 19,
      "outputs": [
        {
          "output_type": "stream",
          "name": "stdout",
          "text": [
            "5 45 17 24 26 13 "
          ]
        }
      ]
    },
    {
      "cell_type": "code",
      "source": [
        "import random\n",
        "\n",
        "foods = [\"떡볶이\", \"순대\", \"소고기\", \"쿠키\", \"라면\"]\n",
        "\n",
        "result = random.choice(foods)\n",
        "\n",
        "print(result)"
      ],
      "metadata": {
        "colab": {
          "base_uri": "https://localhost:8080/"
        },
        "id": "dHa-4YuycbVF",
        "outputId": "5a1e1c42-057d-42cf-aaba-e3fe97a0647b"
      },
      "execution_count": 24,
      "outputs": [
        {
          "output_type": "stream",
          "name": "stdout",
          "text": [
            "떡볶이\n"
          ]
        }
      ]
    },
    {
      "cell_type": "code",
      "source": [
        "from IPython.core.debugger import decorate_fn_with_doc\n",
        "import random\n",
        "\n",
        "com = \"\"\n",
        "player = input(\"가위/바위/보 :\")\n",
        "\n",
        "com = random.choice([\"가위\", \"바위\", \"보\"])\n",
        "if com == \"가위\" and player == \"바위\":\n",
        "  print(\"win\")\n",
        "elif com == \"바위\" and player == \"보\":\n",
        "  print(\"win\")\n",
        "elif com == \"보\" and player == \"가위\":\n",
        "  print(\"win\")\n",
        "elif com == \"가위\" and player == \"가위\":\n",
        "  print(\"draw\")\n",
        "elif com == \"바위\" and player == \"바위\":\n",
        "  print(\"draw\")\n",
        "elif com == \"보\" and player == \"보\":\n",
        "  print(\"draw\")\n",
        "elif com == \"보\" and player == \"바위\":\n",
        "  print(\"defeat\")\n",
        "elif com == \"바위\" and player == \"가위\":\n",
        "  print(\"defeat\")\n",
        "elif com == \"가위\" and player == \"보\":\n",
        "  print(\"defeat\")\n"
      ],
      "metadata": {
        "colab": {
          "base_uri": "https://localhost:8080/"
        },
        "id": "hDNdrMomdEKk",
        "outputId": "9425f3e2-dbeb-41aa-dee1-b06242d4d398"
      },
      "execution_count": 40,
      "outputs": [
        {
          "output_type": "stream",
          "name": "stdout",
          "text": [
            "가위/바위/보 :가위\n",
            "draw\n"
          ]
        }
      ]
    }
  ]
}