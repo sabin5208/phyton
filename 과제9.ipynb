{
  "nbformat": 4,
  "nbformat_minor": 0,
  "metadata": {
    "colab": {
      "provenance": [],
      "authorship_tag": "ABX9TyPiSzpn0j+JJmtThJsJOiIM",
      "include_colab_link": true
    },
    "kernelspec": {
      "name": "python3",
      "display_name": "Python 3"
    },
    "language_info": {
      "name": "python"
    }
  },
  "cells": [
    {
      "cell_type": "markdown",
      "metadata": {
        "id": "view-in-github",
        "colab_type": "text"
      },
      "source": [
        "<a href=\"https://colab.research.google.com/github/sabin5208/phyton/blob/main/%EA%B3%BC%EC%A0%9C9.ipynb\" target=\"_parent\"><img src=\"https://colab.research.google.com/assets/colab-badge.svg\" alt=\"Open In Colab\"/></a>"
      ]
    },
    {
      "cell_type": "code",
      "execution_count": null,
      "metadata": {
        "colab": {
          "base_uri": "https://localhost:8080/"
        },
        "id": "7Fo_VhaGblBV",
        "outputId": "0bcec41b-e579-4832-fec5-7dde70da7e99"
      },
      "outputs": [
        {
          "output_type": "stream",
          "name": "stdout",
          "text": [
            "컴퓨터과 30110 박용빈\n",
            "컴퓨터과 30110 박용빈\n",
            "컴퓨터과 30110 박용빈\n",
            "컴퓨터과 30110 박용빈\n",
            "컴퓨터과 30110 박용빈\n"
          ]
        }
      ],
      "source": [
        "for i in range(0,10,2) :\n",
        "  print(\"컴퓨터과 30110 박용빈\")"
      ]
    },
    {
      "cell_type": "code",
      "source": [
        "for i in [1, 2, 3, 4] :\n",
        "  print(i, \" 컴퓨터과 30110 박용빈\")"
      ],
      "metadata": {
        "colab": {
          "base_uri": "https://localhost:8080/"
        },
        "id": "b9qAPQIKdnUb",
        "outputId": "ec55908c-dacc-47b3-f680-b2e444c5eef6"
      },
      "execution_count": null,
      "outputs": [
        {
          "output_type": "stream",
          "name": "stdout",
          "text": [
            "1  컴퓨터과 30110 박용빈\n",
            "2  컴퓨터과 30110 박용빈\n",
            "3  컴퓨터과 30110 박용빈\n",
            "4  컴퓨터과 30110 박용빈\n"
          ]
        }
      ]
    },
    {
      "cell_type": "code",
      "source": [
        "for i in [\"봄\", \"여름\", \"가을\", \"겨울\"] :\n",
        "  print(i, \" 컴퓨터과 30110 박용빈\")"
      ],
      "metadata": {
        "colab": {
          "base_uri": "https://localhost:8080/"
        },
        "id": "ynGiyEItd4pj",
        "outputId": "5a1bbb8a-b94d-4bbf-f786-0c3b3ec949c2"
      },
      "execution_count": null,
      "outputs": [
        {
          "output_type": "stream",
          "name": "stdout",
          "text": [
            "봄  컴퓨터과 30110 박용빈\n",
            "여름  컴퓨터과 30110 박용빈\n",
            "가을  컴퓨터과 30110 박용빈\n",
            "겨울  컴퓨터과 30110 박용빈\n"
          ]
        }
      ]
    },
    {
      "cell_type": "code",
      "source": [
        "for i in range(1, 11, 1) :\n",
        "  print(\" 짹스스문도트위치\")"
      ],
      "metadata": {
        "colab": {
          "base_uri": "https://localhost:8080/"
        },
        "id": "_N04yTvTeVhL",
        "outputId": "7629a8fe-076d-4282-e97e-ed1ad5242846"
      },
      "execution_count": null,
      "outputs": [
        {
          "output_type": "stream",
          "name": "stdout",
          "text": [
            " 짹스스문도트위치\n",
            " 짹스스문도트위치\n",
            " 짹스스문도트위치\n",
            " 짹스스문도트위치\n",
            " 짹스스문도트위치\n",
            " 짹스스문도트위치\n",
            " 짹스스문도트위치\n",
            " 짹스스문도트위치\n",
            " 짹스스문도트위치\n",
            " 짹스스문도트위치\n"
          ]
        }
      ]
    },
    {
      "cell_type": "code",
      "source": [
        "for i in range(2, 6, 1) :\n",
        "  print(i, end = \" \")"
      ],
      "metadata": {
        "colab": {
          "base_uri": "https://localhost:8080/"
        },
        "id": "UPGpRlIse28T",
        "outputId": "7c560746-0c10-48e7-a60c-e09348be15d8"
      },
      "execution_count": null,
      "outputs": [
        {
          "output_type": "stream",
          "name": "stdout",
          "text": [
            "2 3 4 5 "
          ]
        }
      ]
    },
    {
      "cell_type": "code",
      "source": [
        "result = 1\n",
        "for i in range(1, 6, 1) :\n",
        "  result = result * i\n",
        "print(result)"
      ],
      "metadata": {
        "colab": {
          "base_uri": "https://localhost:8080/"
        },
        "id": "F1e_QpLXfX2r",
        "outputId": "88da2dd2-93f9-4728-d1b7-1d097ac3e238"
      },
      "execution_count": null,
      "outputs": [
        {
          "output_type": "stream",
          "name": "stdout",
          "text": [
            "120\n"
          ]
        }
      ]
    },
    {
      "cell_type": "code",
      "source": [
        "sum = 0\n",
        "\n",
        "for i in range(1, 11, 1) :\n",
        "  sum = sum + i\n",
        "print(sum)"
      ],
      "metadata": {
        "colab": {
          "base_uri": "https://localhost:8080/"
        },
        "id": "2Yno3tesh3zc",
        "outputId": "3312f64a-410a-4bec-d7da-9e3935a96395"
      },
      "execution_count": null,
      "outputs": [
        {
          "output_type": "stream",
          "name": "stdout",
          "text": [
            "55\n"
          ]
        }
      ]
    },
    {
      "cell_type": "code",
      "source": [
        "odd_sum = 0\n",
        "\n",
        "for i in range(1000, 2001, 1) :\n",
        "  if  i % 2 == 1 :\n",
        "    odd_sum = odd_sum + i\n",
        "print(odd_sum)"
      ],
      "metadata": {
        "colab": {
          "base_uri": "https://localhost:8080/"
        },
        "id": "KhNwrs8kidzD",
        "outputId": "1050af1b-fc54-4efa-b066-b4990b52824a"
      },
      "execution_count": null,
      "outputs": [
        {
          "output_type": "stream",
          "name": "stdout",
          "text": [
            "750000\n"
          ]
        }
      ]
    },
    {
      "cell_type": "code",
      "source": [
        "i, hap = 0, 0\n",
        "\n",
        "for i in range (500, 1001, 1) :\n",
        "  if i % 2 == 0 :\n",
        "   hap += i\n",
        "print(\"500 에서 1000까지의 짝수의 합 :\", hap)"
      ],
      "metadata": {
        "colab": {
          "base_uri": "https://localhost:8080/"
        },
        "id": "9X6sTSRVjA5C",
        "outputId": "e2db8ce4-b4fa-45fc-960f-c70ec54919f8"
      },
      "execution_count": null,
      "outputs": [
        {
          "output_type": "stream",
          "name": "stdout",
          "text": [
            "500 에서 1000까지의 짞수의 합 : 188250\n"
          ]
        }
      ]
    },
    {
      "cell_type": "code",
      "source": [
        "for i in range (3) :\n",
        "  for k in range(2) :\n",
        "    print(\"파이썬 존나 어려움\", \"i값\",i, \"k값\", k)"
      ],
      "metadata": {
        "colab": {
          "base_uri": "https://localhost:8080/"
        },
        "id": "tC5Gqgh0k6zb",
        "outputId": "2637c929-a412-4de5-8ff0-21ac96ac013e"
      },
      "execution_count": null,
      "outputs": [
        {
          "output_type": "stream",
          "name": "stdout",
          "text": [
            "파이썬 존나 어려움 i값 0 k값 0\n",
            "파이썬 존나 어려움 i값 0 k값 1\n",
            "파이썬 존나 어려움 i값 1 k값 0\n",
            "파이썬 존나 어려움 i값 1 k값 1\n",
            "파이썬 존나 어려움 i값 2 k값 0\n",
            "파이썬 존나 어려움 i값 2 k값 1\n"
          ]
        }
      ]
    },
    {
      "cell_type": "code",
      "source": [
        "math = 0\n",
        "\n",
        "for k in range(1, 10, 1) :\n",
        "  for i in range (2, 10, 1):\n",
        "    math = i * k\n",
        "    print(i ,\"x\", k ,\"=\",math, end = \"                 \")\n",
        "  print(\"\\n\")\n"
      ],
      "metadata": {
        "id": "FzAEKPShk64L",
        "colab": {
          "base_uri": "https://localhost:8080/"
        },
        "outputId": "4b8efca7-4565-4477-e252-20cbbb78a2ff"
      },
      "execution_count": 67,
      "outputs": [
        {
          "output_type": "stream",
          "name": "stdout",
          "text": [
            "2 x 1 = 2                 3 x 1 = 3                 4 x 1 = 4                 5 x 1 = 5                 6 x 1 = 6                 7 x 1 = 7                 8 x 1 = 8                 9 x 1 = 9                 \n",
            "\n",
            "2 x 2 = 4                 3 x 2 = 6                 4 x 2 = 8                 5 x 2 = 10                 6 x 2 = 12                 7 x 2 = 14                 8 x 2 = 16                 9 x 2 = 18                 \n",
            "\n",
            "2 x 3 = 6                 3 x 3 = 9                 4 x 3 = 12                 5 x 3 = 15                 6 x 3 = 18                 7 x 3 = 21                 8 x 3 = 24                 9 x 3 = 27                 \n",
            "\n",
            "2 x 4 = 8                 3 x 4 = 12                 4 x 4 = 16                 5 x 4 = 20                 6 x 4 = 24                 7 x 4 = 28                 8 x 4 = 32                 9 x 4 = 36                 \n",
            "\n",
            "2 x 5 = 10                 3 x 5 = 15                 4 x 5 = 20                 5 x 5 = 25                 6 x 5 = 30                 7 x 5 = 35                 8 x 5 = 40                 9 x 5 = 45                 \n",
            "\n",
            "2 x 6 = 12                 3 x 6 = 18                 4 x 6 = 24                 5 x 6 = 30                 6 x 6 = 36                 7 x 6 = 42                 8 x 6 = 48                 9 x 6 = 54                 \n",
            "\n",
            "2 x 7 = 14                 3 x 7 = 21                 4 x 7 = 28                 5 x 7 = 35                 6 x 7 = 42                 7 x 7 = 49                 8 x 7 = 56                 9 x 7 = 63                 \n",
            "\n",
            "2 x 8 = 16                 3 x 8 = 24                 4 x 8 = 32                 5 x 8 = 40                 6 x 8 = 48                 7 x 8 = 56                 8 x 8 = 64                 9 x 8 = 72                 \n",
            "\n",
            "2 x 9 = 18                 3 x 9 = 27                 4 x 9 = 36                 5 x 9 = 45                 6 x 9 = 54                 7 x 9 = 63                 8 x 9 = 72                 9 x 9 = 81                 \n",
            "\n"
          ]
        }
      ]
    },
    {
      "cell_type": "code",
      "source": [
        "i = 0\n",
        "\n",
        "while (i < 3) :\n",
        "  print(\"컴퓨터과 3학년 1반\")\n",
        "  i += 1"
      ],
      "metadata": {
        "colab": {
          "base_uri": "https://localhost:8080/"
        },
        "id": "M8-RCZaitx5k",
        "outputId": "08bf1270-557a-494d-b638-5777d8e6891e"
      },
      "execution_count": 70,
      "outputs": [
        {
          "output_type": "stream",
          "name": "stdout",
          "text": [
            "컴퓨터과 3학년 1반\n",
            "컴퓨터과 3학년 1반\n",
            "컴퓨터과 3학년 1반\n"
          ]
        }
      ]
    },
    {
      "cell_type": "code",
      "source": [
        "i = 0\n",
        "while True :\n",
        "  print(\"ㅋ\", end = \"  \")\n",
        "  i = i + 1\n",
        "  if i == 10 :\n",
        "   break"
      ],
      "metadata": {
        "colab": {
          "base_uri": "https://localhost:8080/"
        },
        "id": "UDV-SKFYupZD",
        "outputId": "7b43aae3-119d-4e1a-a91e-cd249f53c459"
      },
      "execution_count": 76,
      "outputs": [
        {
          "output_type": "stream",
          "name": "stdout",
          "text": [
            "ㅋ  ㅋ  ㅋ  ㅋ  ㅋ  ㅋ  ㅋ  ㅋ  ㅋ  ㅋ  "
          ]
        }
      ]
    },
    {
      "cell_type": "code",
      "source": [
        "\n",
        "sum = 0\n",
        "\n",
        "def menu() :\n",
        "  print(\"###########################################################################################\\n\")\n",
        "  print(\"# 1. 덧셈            #\\n\")\n",
        "  print(\"# 2. 뺄셈            #\\n\")\n",
        "  print(\"# 3. 나눗셈            #\\n\")\n",
        "  print(\"# 4. 곱셈            #\\n\")\n",
        "  print(\"# 5. 끝            #\\n\")\n",
        "\n",
        "def add() :\n",
        "  num1 = float(input(\"첫번째 : \"))\n",
        "  num2 = float(input(\"두번째 : \"))\n",
        "  sum = num1 + num2\n",
        "  return sum\n",
        "\n",
        "def sub() :\n",
        "   num1 = float(input(\"첫번째 : \"))\n",
        "   num2 = float(input(\"두번째 : \"))\n",
        "   Qorl = num1 - num2\n",
        "   return Qorl\n",
        "\n",
        "def multi() :\n",
        "   num1 = float(input(\"첫번째 : \"))\n",
        "   num2 = float(input(\"두번째 : \"))\n",
        "   rhq = num1 * num2\n",
        "   return rhq\n",
        "\n",
        "def division() :\n",
        "   num1 = float(input(\"첫번째 : \"))\n",
        "   num2 = float(input(\"두번째 : \"))\n",
        "   sksnrl = num1 / num2\n",
        "   return sksnrl\n",
        "\n",
        "while True :\n",
        "  menu()\n",
        "  select = input(\"메뉴를 선택 : \")\n",
        "  if select == 5 :\n",
        "    break\n",
        "  elif select 1 :\n",
        "    sum = add()\n",
        "    print(\"두수의 덧셈 결과 : \", sum)\n",
        "  elif select 2 :\n",
        "    sum = sub()\n",
        "    print(\"두수의 덧셈 결과 : \", sum)\n",
        "  elif select 3 :\n",
        "    sum = division()\n",
        "    print(\"두수의 덧셈 결과 : \", sum)\n",
        "  elif select 4 :\n",
        "    sum = multi()\n",
        "    print(\"두수의 덧셈 결과 : \", sum)\n"
      ],
      "metadata": {
        "colab": {
          "base_uri": "https://localhost:8080/",
          "height": 131
        },
        "id": "osHRSTRFviiM",
        "outputId": "2bf1a1ff-a39a-4e7c-fb1b-5f556d902107"
      },
      "execution_count": 90,
      "outputs": [
        {
          "output_type": "error",
          "ename": "SyntaxError",
          "evalue": "ignored",
          "traceback": [
            "\u001b[0;36m  File \u001b[0;32m\"<ipython-input-90-102320bf7ed9>\"\u001b[0;36m, line \u001b[0;32m40\u001b[0m\n\u001b[0;31m    elif select 1 :\u001b[0m\n\u001b[0m                ^\u001b[0m\n\u001b[0;31mSyntaxError\u001b[0m\u001b[0;31m:\u001b[0m invalid syntax\n"
          ]
        }
      ]
    },
    {
      "cell_type": "code",
      "source": [],
      "metadata": {
        "id": "9KiKxE6czDys"
      },
      "execution_count": null,
      "outputs": []
    }
  ]
}