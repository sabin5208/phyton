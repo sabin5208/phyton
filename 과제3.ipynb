{
  "nbformat": 4,
  "nbformat_minor": 0,
  "metadata": {
    "colab": {
      "provenance": [],
      "authorship_tag": "ABX9TyNOzxzBBVK+TLACClkYCi8e",
      "include_colab_link": true
    },
    "kernelspec": {
      "name": "python3",
      "display_name": "Python 3"
    },
    "language_info": {
      "name": "python"
    }
  },
  "cells": [
    {
      "cell_type": "markdown",
      "metadata": {
        "id": "view-in-github",
        "colab_type": "text"
      },
      "source": [
        "<a href=\"https://colab.research.google.com/github/sabin5208/phyton/blob/main/%EA%B3%BC%EC%A0%9C3.ipynb\" target=\"_parent\"><img src=\"https://colab.research.google.com/assets/colab-badge.svg\" alt=\"Open In Colab\"/></a>"
      ]
    },
    {
      "cell_type": "code",
      "execution_count": 8,
      "metadata": {
        "colab": {
          "base_uri": "https://localhost:8080/"
        },
        "id": "hgBD4nKhN65t",
        "outputId": "113b8dbc-a27e-4b52-84ec-40971d3e50fc"
      },
      "outputs": [
        {
          "output_type": "stream",
          "name": "stdout",
          "text": [
            "파운드를 입력해라 : 2\n",
            "킬로그램(kg)을 입력해라 : 3\n",
            "2.0 파운드(lb)는 0.90718 킬로그램(kg)입니다\n",
            "3.0 킬로그램(kg)은 6.61387 파운드(lb)입니다\n"
          ]
        }
      ],
      "source": [
        "pound = float(input(\"파운드를 입력해라 : \"))\n",
        "kg = pound * 0.453592\n",
        "print(pound, \"파운드(lb)는\", round(kg,5),\"킬로그램(kg)입니다\")\n",
        "\n",
        "kg = float(input(\"킬로그램(kg)을 입력해라 : \"))\n",
        "pound = kg * 2.204623\n",
        "print(kg, \"킬로그램(kg)은\", round(pound,5),\"파운드(lb)입니다\")\n"
      ]
    },
    {
      "cell_type": "code",
      "source": [],
      "metadata": {
        "id": "e2Fuo-mNOZvI"
      },
      "execution_count": null,
      "outputs": []
    }
  ]
}