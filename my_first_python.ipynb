{
  "nbformat": 4,
  "nbformat_minor": 0,
  "metadata": {
    "colab": {
      "provenance": [],
      "authorship_tag": "ABX9TyNvxEF1FEa27yrprhVE2xdR",
      "include_colab_link": true
    },
    "kernelspec": {
      "name": "python3",
      "display_name": "Python 3"
    },
    "language_info": {
      "name": "python"
    }
  },
  "cells": [
    {
      "cell_type": "markdown",
      "metadata": {
        "id": "view-in-github",
        "colab_type": "text"
      },
      "source": [
        "<a href=\"https://colab.research.google.com/github/sabin5208/phyton/blob/main/my_first_python.ipynb\" target=\"_parent\"><img src=\"https://colab.research.google.com/assets/colab-badge.svg\" alt=\"Open In Colab\"/></a>"
      ]
    },
    {
      "cell_type": "markdown",
      "source": [
        "2023 응용 프로그래밍 화면구현   \n",
        "\n",
        "파이썬 기초"
      ],
      "metadata": {
        "id": "smzffcayia2_"
      }
    },
    {
      "cell_type": "code",
      "execution_count": 6,
      "metadata": {
        "colab": {
          "base_uri": "https://localhost:8080/"
        },
        "id": "vuLddIHISe8G",
        "outputId": "1c2e9f70-df85-4e1c-a6ac-0f4b4f497e3e"
      },
      "outputs": [
        {
          "output_type": "stream",
          "name": "stdout",
          "text": [
            "안산공고\n",
            "컴과 3 - 1 10번 박용빈\n",
            "파이썬 기초 수업\n"
          ]
        }
      ],
      "source": [
        "print(\"안산공고\")\n",
        "print(\"컴과 3 - 1 10번 박용빈\")\n",
        "print(\"파이썬 기초 수업\")"
      ]
    }
  ]
}