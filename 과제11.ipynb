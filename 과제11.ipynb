{
  "nbformat": 4,
  "nbformat_minor": 0,
  "metadata": {
    "colab": {
      "provenance": [],
      "authorship_tag": "ABX9TyP1dGzNwpwvcZ2GtjTyoHJW",
      "include_colab_link": true
    },
    "kernelspec": {
      "name": "python3",
      "display_name": "Python 3"
    },
    "language_info": {
      "name": "python"
    }
  },
  "cells": [
    {
      "cell_type": "markdown",
      "metadata": {
        "id": "view-in-github",
        "colab_type": "text"
      },
      "source": [
        "<a href=\"https://colab.research.google.com/github/sabin5208/phyton/blob/main/%EA%B3%BC%EC%A0%9C11.ipynb\" target=\"_parent\"><img src=\"https://colab.research.google.com/assets/colab-badge.svg\" alt=\"Open In Colab\"/></a>"
      ]
    },
    {
      "cell_type": "code",
      "execution_count": 2,
      "metadata": {
        "colab": {
          "base_uri": "https://localhost:8080/"
        },
        "id": "TJyytXS1fJiV",
        "outputId": "58de16d2-b5d0-4c0b-b53e-b47d9cb340c2"
      },
      "outputs": [
        {
          "output_type": "stream",
          "name": "stdout",
          "text": [
            "숫자 : 10\n",
            "숫자 : 20\n",
            "숫자 : 30\n",
            "숫자 : 40\n",
            "숫자 : 50\n",
            "리스트 합계 :  150\n"
          ]
        }
      ],
      "source": [
        "numlist = [0, 0, 0, 0, 0]\n",
        "\n",
        "numlist[0] = input(\"숫자 : \")\n",
        "numlist[1] = input(\"숫자 : \")\n",
        "numlist[2] = input(\"숫자 : \")\n",
        "numlist[3] = input(\"숫자 : \")\n",
        "numlist[4] = input(\"숫자 : \")\n",
        "\n",
        "sum = int(numlist[0]) + int(numlist[1]) + int(numlist[2]) + int(numlist[3]) + int(numlist[4])\n",
        "\n",
        "print(\"리스트 합계 : \", sum)"
      ]
    },
    {
      "cell_type": "code",
      "source": [
        "mylist =[]\n",
        "\n",
        "mylist.append(\"안산\")\n",
        "mylist.append(\"공고\")\n",
        "mylist.append(\"3110\")\n",
        "mylist.append(\"777\")\n",
        "\n",
        "print(mylist)"
      ],
      "metadata": {
        "colab": {
          "base_uri": "https://localhost:8080/"
        },
        "id": "X-5Rc3nhsrQG",
        "outputId": "6bfa06f0-17ef-4a8e-bfff-3980679558cc"
      },
      "execution_count": 3,
      "outputs": [
        {
          "output_type": "stream",
          "name": "stdout",
          "text": [
            "['안산', '공고', '3110', '777']\n"
          ]
        }
      ]
    },
    {
      "cell_type": "code",
      "source": [
        "import random\n",
        "\n",
        "wisesay = [\"중요한 것은 꺽여서도 하는 마음\"\n",
        "          \"너 자신을 알라\",\n",
        "           \"피할 수 없으면 즐겨라\",\n",
        "           \"신은 용기있는 자를 결코 버리지 않는다\",\n",
        "           \"내일은 내일의 태양이 뜰테니\",\n",
        "           \"넘어지면 어때\",\n",
        "           \"살다보면 웃고 떠들며 이날을 넌 추억할테니\"]\n",
        "\n",
        "rnd_say = random.choice(wisesay)\n",
        "\n",
        "print(\"오늘의 명언 : \" , rnd_say)"
      ],
      "metadata": {
        "colab": {
          "base_uri": "https://localhost:8080/"
        },
        "id": "FEEDAU4gusMv",
        "outputId": "8e2d88f8-1876-4384-f092-dd0aedcd94a7"
      },
      "execution_count": 13,
      "outputs": [
        {
          "output_type": "stream",
          "name": "stdout",
          "text": [
            "오늘의 명언 :  피할 수 없으면 즐겨라\n"
          ]
        }
      ]
    },
    {
      "cell_type": "code",
      "source": [
        "import random\n",
        "\n",
        "wisesay = [\"중요한 것은 꺽여서도 하는 마음\"\n",
        "          \"너 자신을 알라\",\n",
        "           \"피할 수 없으면 즐겨라\",\n",
        "           \"신은 용기있는 자를 결코 버리지 않는다\",\n",
        "           \"내일은 내일의 태양이 뜰테니\",\n",
        "           \"넘어지면 어때\",\n",
        "           \"살다보면 웃고 떠들며 이날을 넌 추억할테니\"]\n",
        "\n",
        "rnd = random.randint(0,len(wisesay)-1)\n",
        "rnd_say = wisesay[rnd]\n",
        "\n",
        "print(\"오늘의 명언 : \" , rnd_say)"
      ],
      "metadata": {
        "colab": {
          "base_uri": "https://localhost:8080/"
        },
        "id": "e0DOVYg_yMXn",
        "outputId": "5a0d5e10-fc14-4c67-a8ed-006071ec14e8"
      },
      "execution_count": 15,
      "outputs": [
        {
          "output_type": "stream",
          "name": "stdout",
          "text": [
            "오늘의 명언 :  살다보면 웃고 떠들며 이날을 넌 추억할테니\n"
          ]
        }
      ]
    },
    {
      "cell_type": "code",
      "source": [
        "import datetime\n",
        "\n",
        "now = datetime.date.today()\n",
        "btd = datetime.date(2005,9,12)\n",
        "age = now - btd\n",
        "print(age.days/365)\n",
        "\n",
        "dday = datetime.date(2023,11,16)\n",
        "age1 = now - dday\n",
        "\n",
        "print(age1.days)"
      ],
      "metadata": {
        "colab": {
          "base_uri": "https://localhost:8080/"
        },
        "id": "BDBK_719zQnP",
        "outputId": "a3fd73f2-f009-4fbf-87f3-30221df7b48e"
      },
      "execution_count": 23,
      "outputs": [
        {
          "output_type": "stream",
          "name": "stdout",
          "text": [
            "17.586301369863012\n",
            "-220\n"
          ]
        }
      ]
    }
  ]
}