{
  "nbformat": 4,
  "nbformat_minor": 0,
  "metadata": {
    "colab": {
      "provenance": [],
      "authorship_tag": "ABX9TyObTqbAhjcqRM56ZDpoZUmH",
      "include_colab_link": true
    },
    "kernelspec": {
      "name": "python3",
      "display_name": "Python 3"
    },
    "language_info": {
      "name": "python"
    }
  },
  "cells": [
    {
      "cell_type": "markdown",
      "metadata": {
        "id": "view-in-github",
        "colab_type": "text"
      },
      "source": [
        "<a href=\"https://colab.research.google.com/github/sabin5208/phyton/blob/main/%EA%B3%BC%EC%A0%9C10.ipynb\" target=\"_parent\"><img src=\"https://colab.research.google.com/assets/colab-badge.svg\" alt=\"Open In Colab\"/></a>"
      ]
    },
    {
      "cell_type": "code",
      "execution_count": 4,
      "metadata": {
        "colab": {
          "base_uri": "https://localhost:8080/"
        },
        "id": "rCPvcR5uPx4_",
        "outputId": "59b709d4-ff15-417f-b822-b8d19d65d4b2"
      },
      "outputs": [
        {
          "output_type": "stream",
          "name": "stdout",
          "text": [
            "모두가 같아용 3 이다.\n",
            "같은숫자가 나오기 까지  1 번 던짐\n"
          ]
        }
      ],
      "source": [
        "import random\n",
        "\n",
        "count = 0\n",
        "while True :\n",
        "  dice1 = random.randint(1,6)\n",
        "  dice2 = random.randint(1,6)\n",
        "  dice3 = random.randint(1,6)\n",
        "  count = count + 1\n",
        "  if dice1 == dice2 == dice3 : \n",
        "    print(\"모두가 같아용\", dice1, \"이다.\")\n",
        "    print(\"같은숫자가 나오기 까지 \", count , \"번 던짐\")\n",
        "    break"
      ]
    },
    {
      "cell_type": "code",
      "source": [
        "import random\n",
        "game_count = 1\n",
        "com1 = 0\n",
        "player = 0\n",
        "\n",
        "while game_count <= 10 :\n",
        "  com1 = random.randint(1,5)\n",
        "  player = int(input(\"1~5 선택\" ))\n",
        "  game_count += 1\n",
        "  if com1 != player :\n",
        "    print(\"오답 저는\", com1,\"을 생각했어요\")\n",
        "  elif com1 == player :\n",
        "    print(\"정답 저는\",com1,\"을 생각했어요\")\n",
        "  if game_count == 11 :\n",
        "    print(\"아이쿠 기회를 다 쓰셨어요 ㅋ\")\n",
        "    break\n"
      ],
      "metadata": {
        "colab": {
          "base_uri": "https://localhost:8080/"
        },
        "id": "t-9f4WDaSAKx",
        "outputId": "9db5be92-3381-4d9e-e333-c8f35c88ece2"
      },
      "execution_count": 23,
      "outputs": [
        {
          "output_type": "stream",
          "name": "stdout",
          "text": [
            "1~5 선택2\n",
            "오답 저는 5 을 생각했어요\n",
            "1~5 선택3\n",
            "오답 저는 5 을 생각했어요\n",
            "1~5 선택3\n",
            "오답 저는 1 을 생각했어요\n",
            "1~5 선택2\n",
            "오답 저는 3 을 생각했어요\n",
            "1~5 선택2\n",
            "오답 저는 1 을 생각했어요\n",
            "1~5 선택2\n",
            "오답 저는 3 을 생각했어요\n",
            "1~5 선택2\n",
            "오답 저는 3 을 생각했어요\n",
            "1~5 선택2\n",
            "오답 저는 3 을 생각했어요\n",
            "1~5 선택1\n",
            "오답 저는 5 을 생각했어요\n",
            "1~5 선택1\n",
            "오답 저는 4 을 생각했어요\n",
            "아이쿠 기회를 다 쓰셨어요 ㅋ\n"
          ]
        }
      ]
    },
    {
      "cell_type": "code",
      "source": [
        "\n",
        "import random\n",
        "game_count = 1\n",
        "secret_number = random.sample(range(1,10),3) # range()\n",
        "while game_count <= 10 :\n",
        "  strike = 0\n",
        "  ball = 0\n",
        "  player_number = input(\"3자리 숫자를 입력 :\")\n",
        "  player_number = list(player_number)\n",
        "  player_number[0] = int(player_number[0])\n",
        "  player_number[1] = int(player_number[1])\n",
        "  player_number[2] = int(player_number[2])\n",
        "\n",
        "  if (secret_number[0] == player_number[0]) :\n",
        "    strike = strike + 1\n",
        "  elif player_number[0] in secret_number :\n",
        "    ball = ball + 1\n",
        "  if (secret_number[1] == player_number[1]) :\n",
        "    strike = strike + 1\n",
        "  elif player_number[1] in secret_number :\n",
        "    ball = ball + 1\n",
        "  if (secret_number[2] == player_number[2]) :\n",
        "    strike = strike + 1\n",
        "  elif player_number[2] in secret_number :\n",
        "    ball = ball + 1\n",
        "     \n",
        "  print(strike, \"-스트라이크  //  \", ball, \"-볼\")\n",
        "  if strike == 3 :\n",
        "     print(\"맞췄습니다 ^0^\")\n",
        "     break\n",
        "\n",
        "\n"
      ],
      "metadata": {
        "id": "z-PkqUCyW55w"
      },
      "execution_count": null,
      "outputs": []
    },
    {
      "cell_type": "code",
      "source": [],
      "metadata": {
        "id": "iuvJW3bTZKYn"
      },
      "execution_count": null,
      "outputs": []
    }
  ]
}