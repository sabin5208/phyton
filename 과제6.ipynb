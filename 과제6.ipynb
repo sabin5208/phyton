{
  "nbformat": 4,
  "nbformat_minor": 0,
  "metadata": {
    "colab": {
      "provenance": [],
      "authorship_tag": "ABX9TyMOjTY2ZqIYz5GeG4ZP2DI+",
      "include_colab_link": true
    },
    "kernelspec": {
      "name": "python3",
      "display_name": "Python 3"
    },
    "language_info": {
      "name": "python"
    }
  },
  "cells": [
    {
      "cell_type": "markdown",
      "metadata": {
        "id": "view-in-github",
        "colab_type": "text"
      },
      "source": [
        "<a href=\"https://colab.research.google.com/github/sabin5208/phyton/blob/main/%EA%B3%BC%EC%A0%9C6.ipynb\" target=\"_parent\"><img src=\"https://colab.research.google.com/assets/colab-badge.svg\" alt=\"Open In Colab\"/></a>"
      ]
    },
    {
      "cell_type": "code",
      "execution_count": 7,
      "metadata": {
        "colab": {
          "base_uri": "https://localhost:8080/"
        },
        "id": "6welNi1wMr5V",
        "outputId": "177e637c-b6f0-4427-cf8d-85a9aa10cc3d"
      },
      "outputs": [
        {
          "output_type": "stream",
          "name": "stdout",
          "text": [
            "원본 문자열 :  트 와 이 스\n",
            "반대로 :  스이와트\n"
          ]
        }
      ],
      "source": [
        "tw = [\"트\",\"와\",\"이\",\"스\"];\n",
        "tw_revers = tw[3] + tw[2] + tw[1] + tw[0]\n",
        "print(\"원본 문자열 : \", tw[0],tw[1],tw[2],tw[3])\n",
        "\n",
        "print(\"반대로 : \", tw_revers)\n",
        "\n",
        "\n",
        "\n"
      ]
    },
    {
      "cell_type": "code",
      "source": [
        "singer = '트와이스'\n",
        "\n",
        "print('원본 : ', singer)\n",
        "\n",
        "print('반대로 : ', singer[::-1])"
      ],
      "metadata": {
        "colab": {
          "base_uri": "https://localhost:8080/"
        },
        "id": "qqOKcNugPnYO",
        "outputId": "94961fb5-a511-4feb-f6d4-15efbc40a1ca"
      },
      "execution_count": 16,
      "outputs": [
        {
          "output_type": "stream",
          "name": "stdout",
          "text": [
            "원본 :  트와이스\n",
            "반대로 :  스이와트\n"
          ]
        }
      ]
    },
    {
      "cell_type": "code",
      "source": [
        "orgin = \"Python\"\n",
        "\n",
        "print(\"원본\", orgin)\n",
        "\n",
        "big = orgin.upper()\n",
        "\n",
        "small = orgin.lower()\n",
        "\n",
        "print(\"대문자\", big)\n",
        "\n",
        "print(\"소문자\", small)"
      ],
      "metadata": {
        "colab": {
          "base_uri": "https://localhost:8080/"
        },
        "id": "uXPZczVoRHUk",
        "outputId": "e643b234-c750-4606-8169-6d3d697d628f"
      },
      "execution_count": 23,
      "outputs": [
        {
          "output_type": "stream",
          "name": "stdout",
          "text": [
            "원본 Python\n",
            "대문자 PYTHON\n",
            "소문자 python\n"
          ]
        }
      ]
    }
  ]
}