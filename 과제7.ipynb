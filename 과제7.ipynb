{
  "nbformat": 4,
  "nbformat_minor": 0,
  "metadata": {
    "colab": {
      "provenance": [],
      "authorship_tag": "ABX9TyPZKxXmWzTiU4tjUUGoBysZ",
      "include_colab_link": true
    },
    "kernelspec": {
      "name": "python3",
      "display_name": "Python 3"
    },
    "language_info": {
      "name": "python"
    }
  },
  "cells": [
    {
      "cell_type": "markdown",
      "metadata": {
        "id": "view-in-github",
        "colab_type": "text"
      },
      "source": [
        "<a href=\"https://colab.research.google.com/github/sabin5208/phyton/blob/main/%EA%B3%BC%EC%A0%9C7.ipynb\" target=\"_parent\"><img src=\"https://colab.research.google.com/assets/colab-badge.svg\" alt=\"Open In Colab\"/></a>"
      ]
    },
    {
      "cell_type": "code",
      "execution_count": 1,
      "metadata": {
        "colab": {
          "base_uri": "https://localhost:8080/"
        },
        "id": "0npup6uXS2Ty",
        "outputId": "03add7c8-bd9e-4275-a495-297ab78ab32b"
      },
      "outputs": [
        {
          "output_type": "stream",
          "name": "stdout",
          "text": [
            "100보다 큼\n",
            "프로그램\n",
            "끝\n"
          ]
        }
      ],
      "source": [
        "num = 200\n",
        "\n",
        "if num > 100:\n",
        "  print(\"100보다 큼\")\n",
        "  print(\"프로그램\")\n",
        "print(\"끝\")"
      ]
    },
    {
      "cell_type": "code",
      "source": [
        "num = int(input(\"정수 입력 : \"))\n",
        "\n",
        "if num % 2 == 0 :\n",
        "  print(\"짝\")\n",
        "else :\n",
        "  print(\"홀\")"
      ],
      "metadata": {
        "colab": {
          "base_uri": "https://localhost:8080/"
        },
        "id": "zTlNnf7fYS6u",
        "outputId": "d6d763e2-84ba-4e58-9790-9d395e68b3a5"
      },
      "execution_count": 3,
      "outputs": [
        {
          "output_type": "stream",
          "name": "stdout",
          "text": [
            "정수 입력 : 5\n",
            "홀\n"
          ]
        }
      ]
    },
    {
      "cell_type": "code",
      "source": [
        "num = int(input(\"숫자 입력 :\"))\n",
        "\n",
        "if num >= 100 :\n",
        "  if num  <= 1000 :\n",
        "    print(\"100 ~ 1000임\")\n",
        "  else :\n",
        "      print(\"1000보다 큼\")\n",
        "else :\n",
        "  print(\"100보다 작음\")\n"
      ],
      "metadata": {
        "colab": {
          "base_uri": "https://localhost:8080/"
        },
        "id": "kP5BEXlLYuul",
        "outputId": "805d7762-2f57-4f69-ba0c-5faa6652663b"
      },
      "execution_count": 7,
      "outputs": [
        {
          "output_type": "stream",
          "name": "stdout",
          "text": [
            "숫자 입력 :1000\n",
            "100 ~ 1000임\n"
          ]
        }
      ]
    },
    {
      "cell_type": "code",
      "source": [
        "score = int(input(\"점수를 입력 : \"))\n",
        "\n",
        "if score >= 90 :\n",
        "  print(\"A학점입니다.\")\n",
        "else :\n",
        "  if score >= 80 :\n",
        "    print(\"B학점입니다.\")\n",
        "  else :\n",
        "    if score >= 70 :\n",
        "      print(\"C학점입니다\")\n",
        "    else :\n",
        "      if score >= 60 :\n",
        "          print(\"D학점입니다\")\n",
        "      else :\n",
        "          print(\"F학점입니다\")    \n"
      ],
      "metadata": {
        "colab": {
          "base_uri": "https://localhost:8080/"
        },
        "id": "5Ei0KqEQcQbl",
        "outputId": "1677533a-b316-4927-8cdb-41a6444fdd88"
      },
      "execution_count": 23,
      "outputs": [
        {
          "output_type": "stream",
          "name": "stdout",
          "text": [
            "점수를 입력 : 30\n",
            "F\n",
            "학점입니다\n"
          ]
        }
      ]
    },
    {
      "cell_type": "code",
      "source": [
        ")"
      ],
      "metadata": {
        "id": "Af8-HvREcom8"
      },
      "execution_count": null,
      "outputs": []
    }
  ]
}